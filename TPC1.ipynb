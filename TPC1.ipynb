{
  "nbformat": 4,
  "nbformat_minor": 0,
  "metadata": {
    "colab": {
      "name": "TPC1.ipynb",
      "version": "0.3.2",
      "provenance": []
    },
    "kernelspec": {
      "name": "python3",
      "display_name": "Python 3"
    }
  },
  "cells": [
    {
      "metadata": {
        "id": "OWjYbwLDDm3D",
        "colab_type": "code",
        "colab": {}
      },
      "cell_type": "code",
      "source": [
        "\n",
        "import numpy as np\n",
        "def s(S):\n",
        "    a=[]\n",
        "    index=0\n",
        "    for r in range(len(S)):\n",
        "        \n",
        "        if S[r]==\"(\" :\n",
        "            a.append(\")\")\n",
        "        if S[r]==\"[\" :\n",
        "            a.append(\"]\")\n",
        "        if S[r]==\"{\" :\n",
        "            a.append(\"}\")\n",
        "        if S[r]==\")\" or S[r]==\"]\" or S[r]==\"}\" :\n",
        "            if S[r]!=a[len(a)-1]:\n",
        "                return 0\n",
        "            a.pop()\n",
        "                 \n",
        "       \n",
        "    if len(a)==0:\n",
        "        return 1\n",
        "    else :\n",
        "        return 0\n",
        "        \n",
        "        \n",
        "def resultado (S):\n",
        "    print(S,\"---resposta---\",solucao(S))"
      ],
      "execution_count": 0,
      "outputs": []
    }
  ]
}